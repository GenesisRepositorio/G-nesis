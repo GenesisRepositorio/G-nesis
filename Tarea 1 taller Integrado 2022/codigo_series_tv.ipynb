{
 "cells": [
  {
   "cell_type": "markdown",
   "id": "04883c59-fe68-4720-b8f8-4040214bb73f",
   "metadata": {},
   "source": [
    "1. Importing the required libraries for EDA\n",
    "Below are the libraries that are used in order to perform EDA (Exploratory data analysis) in this tutorial.\n"
   ]
  },
  {
   "cell_type": "code",
   "execution_count": 27,
   "id": "642dbe4f-4d71-48fd-9069-4912728fd4b8",
   "metadata": {},
   "outputs": [],
   "source": [
    "import pandas as pd\n",
    "import numpy as np\n",
    "import seaborn as sns \n",
    "import matplotlib.pyplot as plt \n",
    "%matplotlib inline \n",
    "sns.set(color_codes=True)"
   ]
  },
  {
   "cell_type": "markdown",
   "id": "b1d997b3-0394-469d-85d3-2857a10d81ab",
   "metadata": {},
   "source": [
    "2. Loading the data into the data frame."
   ]
  },
  {
   "cell_type": "code",
   "execution_count": 28,
   "id": "56bb98bf-e706-413f-a2ab-c76f599a0443",
   "metadata": {},
   "outputs": [],
   "source": [
    "df = pd.read_csv('D:/TI2022/metacritic best tv shows of all time.csv',sep=';', engine='python') #leemos el archivo elegido y configuramos el formato en el  que se encuentra/content/drive/pre-processed-users1.1.tsv') as f:\n",
    "df.set_index('rank',inplace=True)#asignamos a rank como indice\n",
    "df['release']= pd.to_datetime(df['release'])#le damos el formato correcto de fecha\n",
    "df['year'] = df['release'].dt.strftime(\"%Y\")#extraemos como string los años esto depende de la manera en el que vas a usar la fecha, pero tiene que ser datatime\n",
    "#lista de condiciones p ara medir la metrica metascore de las series de la pagina metrics\n",
    "df['metascore']= pd.to_numeric(df['metascore'])#le damos el formato correcto de fecha\n",
    "df['userscore']= pd.to_numeric(df['userscore'])#le damos el formato correcto de fecha\n",
    "\n",
    "conditionlist = [   \n",
    "(df['metascore'] >= 0) & (df['metascore'] <=19),\n",
    "(df['metascore'] >= 20) & (df['metascore'] <=39),#cree una lista de condiciones para la columna metascore y luego las asigne en una nueva columna, también depende del tipo de dato de tu columna\n",
    "(df['metascore'] >= 40) & (df['metascore'] <=60),\n",
    "(df['metascore'] >= 61) & (df['metascore'] <=80),\n",
    "(df['metascore'] >= 81) & (df['metascore'] <=100)]\n",
    "choicelist = ['Aversión abrumadora','Críticas generalmente desfavorables','Reseñas mixtas o promedio', #nombre de las condiciones dada por la pagina wiki\n",
    "        ' Críticas generalmente favorables','Aclamación universal']\n",
    "df['Indicadores_Metascore'] = np.select(conditionlist, choicelist, default='Not Specified') #select Devuelve una matriz extraída de elementos de choicelist, según las condiciones.\n",
    "\n",
    "\n",
    "conditionlist = [   \n",
    "(df['userscore'] >= 0.0) & (df['userscore'] <=1.9),\n",
    "(df['userscore'] >= 2.0) & (df['userscore'] <=3.9),#cree una lista de condiciones para la columna metascore y luego las asigne en una nueva columna, también depende del tipo de dato de tu columna\n",
    "(df['userscore'] >= 4.0) & (df['userscore'] <=6.0),\n",
    "(df['userscore'] >= 6.1) & (df['userscore'] <=8.0),\n",
    "(df['userscore'] >= 8.1) & (df['userscore'] <=9.9)]\n",
    "choicelist = ['Mala o sin Clasificación','No muy buena','Buena','Muy buena', #nombre de las condiciones dada por la pagina wiki\n",
    "        'Excelente']\n",
    "df['Clasificación_Puntuación_Usuario'] = np.select(conditionlist, choicelist, default='Not Specified') #select Devuelve una matriz extraída de elementos de choicelist, según las condiciones.\n"
   ]
  },
  {
   "cell_type": "code",
   "execution_count": 29,
   "id": "d7ff0dcb-eba0-4f40-b0f9-d1458197c8df",
   "metadata": {},
   "outputs": [
    {
     "data": {
      "text/html": [
       "<div>\n",
       "<style scoped>\n",
       "    .dataframe tbody tr th:only-of-type {\n",
       "        vertical-align: middle;\n",
       "    }\n",
       "\n",
       "    .dataframe tbody tr th {\n",
       "        vertical-align: top;\n",
       "    }\n",
       "\n",
       "    .dataframe thead th {\n",
       "        text-align: right;\n",
       "    }\n",
       "</style>\n",
       "<table border=\"1\" class=\"dataframe\">\n",
       "  <thead>\n",
       "    <tr style=\"text-align: right;\">\n",
       "      <th></th>\n",
       "      <th>title</th>\n",
       "      <th>release</th>\n",
       "      <th>summary</th>\n",
       "      <th>metascore</th>\n",
       "      <th>userscore</th>\n",
       "      <th>link</th>\n",
       "      <th>img_url</th>\n",
       "      <th>year</th>\n",
       "      <th>Indicadores_Metascore</th>\n",
       "      <th>Clasificación_Puntuación_Usuario</th>\n",
       "    </tr>\n",
       "    <tr>\n",
       "      <th>rank</th>\n",
       "      <th></th>\n",
       "      <th></th>\n",
       "      <th></th>\n",
       "      <th></th>\n",
       "      <th></th>\n",
       "      <th></th>\n",
       "      <th></th>\n",
       "      <th></th>\n",
       "      <th></th>\n",
       "      <th></th>\n",
       "    </tr>\n",
       "  </thead>\n",
       "  <tbody>\n",
       "    <tr>\n",
       "      <th>1</th>\n",
       "      <td>Rectify: Season 4</td>\n",
       "      <td>2016-10-26</td>\n",
       "      <td>Daniel tries to start a new life outside of Pa...</td>\n",
       "      <td>99</td>\n",
       "      <td>8.7</td>\n",
       "      <td>https://www.metacritic.com/tv/rectify/season-4</td>\n",
       "      <td>https://static.metacritic.com/images/products/...</td>\n",
       "      <td>2016</td>\n",
       "      <td>Aclamación universal</td>\n",
       "      <td>Excelente</td>\n",
       "    </tr>\n",
       "    <tr>\n",
       "      <th>2</th>\n",
       "      <td>The Larry Sanders Show: Season 4</td>\n",
       "      <td>1995-07-19</td>\n",
       "      <td>Comic Garry Shandling draws upon his own talk ...</td>\n",
       "      <td>99</td>\n",
       "      <td>5.8</td>\n",
       "      <td>https://www.metacritic.com/tv/the-larry-sander...</td>\n",
       "      <td>https://static.metacritic.com/images/products/...</td>\n",
       "      <td>1995</td>\n",
       "      <td>Aclamación universal</td>\n",
       "      <td>Buena</td>\n",
       "    </tr>\n",
       "    <tr>\n",
       "      <th>3</th>\n",
       "      <td>Murder One: Season 1</td>\n",
       "      <td>1995-09-19</td>\n",
       "      <td>One of several crime and law dramas created by...</td>\n",
       "      <td>99</td>\n",
       "      <td>6.4</td>\n",
       "      <td>https://www.metacritic.com/tv/murder-one/season-1</td>\n",
       "      <td>https://static.metacritic.com/images/products/...</td>\n",
       "      <td>1995</td>\n",
       "      <td>Aclamación universal</td>\n",
       "      <td>Muy buena</td>\n",
       "    </tr>\n",
       "    <tr>\n",
       "      <th>4</th>\n",
       "      <td>The Larry Sanders Show: Season 6</td>\n",
       "      <td>1998-03-15</td>\n",
       "      <td>Comic Garry Shandling draws upon his own talk ...</td>\n",
       "      <td>99</td>\n",
       "      <td>5.5</td>\n",
       "      <td>https://www.metacritic.com/tv/the-larry-sander...</td>\n",
       "      <td>https://static.metacritic.com/images/products/...</td>\n",
       "      <td>1998</td>\n",
       "      <td>Aclamación universal</td>\n",
       "      <td>Buena</td>\n",
       "    </tr>\n",
       "    <tr>\n",
       "      <th>5</th>\n",
       "      <td>Breaking Bad: Season 5</td>\n",
       "      <td>2012-07-15</td>\n",
       "      <td>The final season for the award-winning drama b...</td>\n",
       "      <td>99</td>\n",
       "      <td>9.6</td>\n",
       "      <td>https://www.metacritic.com/tv/breaking-bad/sea...</td>\n",
       "      <td>https://static.metacritic.com/images/products/...</td>\n",
       "      <td>2012</td>\n",
       "      <td>Aclamación universal</td>\n",
       "      <td>Excelente</td>\n",
       "    </tr>\n",
       "  </tbody>\n",
       "</table>\n",
       "</div>"
      ],
      "text/plain": [
       "                                 title    release  \\\n",
       "rank                                                \n",
       "1                    Rectify: Season 4 2016-10-26   \n",
       "2     The Larry Sanders Show: Season 4 1995-07-19   \n",
       "3                 Murder One: Season 1 1995-09-19   \n",
       "4     The Larry Sanders Show: Season 6 1998-03-15   \n",
       "5               Breaking Bad: Season 5 2012-07-15   \n",
       "\n",
       "                                                summary  metascore  userscore  \\\n",
       "rank                                                                            \n",
       "1     Daniel tries to start a new life outside of Pa...         99        8.7   \n",
       "2     Comic Garry Shandling draws upon his own talk ...         99        5.8   \n",
       "3     One of several crime and law dramas created by...         99        6.4   \n",
       "4     Comic Garry Shandling draws upon his own talk ...         99        5.5   \n",
       "5     The final season for the award-winning drama b...         99        9.6   \n",
       "\n",
       "                                                   link  \\\n",
       "rank                                                      \n",
       "1        https://www.metacritic.com/tv/rectify/season-4   \n",
       "2     https://www.metacritic.com/tv/the-larry-sander...   \n",
       "3     https://www.metacritic.com/tv/murder-one/season-1   \n",
       "4     https://www.metacritic.com/tv/the-larry-sander...   \n",
       "5     https://www.metacritic.com/tv/breaking-bad/sea...   \n",
       "\n",
       "                                                img_url  year  \\\n",
       "rank                                                            \n",
       "1     https://static.metacritic.com/images/products/...  2016   \n",
       "2     https://static.metacritic.com/images/products/...  1995   \n",
       "3     https://static.metacritic.com/images/products/...  1995   \n",
       "4     https://static.metacritic.com/images/products/...  1998   \n",
       "5     https://static.metacritic.com/images/products/...  2012   \n",
       "\n",
       "     Indicadores_Metascore Clasificación_Puntuación_Usuario  \n",
       "rank                                                         \n",
       "1     Aclamación universal                        Excelente  \n",
       "2     Aclamación universal                            Buena  \n",
       "3     Aclamación universal                        Muy buena  \n",
       "4     Aclamación universal                            Buena  \n",
       "5     Aclamación universal                        Excelente  "
      ]
     },
     "execution_count": 29,
     "metadata": {},
     "output_type": "execute_result"
    }
   ],
   "source": [
    "df.head(5)\n"
   ]
  },
  {
   "cell_type": "code",
   "execution_count": 30,
   "id": "32f1f723-1a65-4da0-a300-19bb54eaed13",
   "metadata": {},
   "outputs": [
    {
     "data": {
      "text/html": [
       "<div>\n",
       "<style scoped>\n",
       "    .dataframe tbody tr th:only-of-type {\n",
       "        vertical-align: middle;\n",
       "    }\n",
       "\n",
       "    .dataframe tbody tr th {\n",
       "        vertical-align: top;\n",
       "    }\n",
       "\n",
       "    .dataframe thead th {\n",
       "        text-align: right;\n",
       "    }\n",
       "</style>\n",
       "<table border=\"1\" class=\"dataframe\">\n",
       "  <thead>\n",
       "    <tr style=\"text-align: right;\">\n",
       "      <th></th>\n",
       "      <th>title</th>\n",
       "      <th>release</th>\n",
       "      <th>summary</th>\n",
       "      <th>metascore</th>\n",
       "      <th>userscore</th>\n",
       "      <th>link</th>\n",
       "      <th>img_url</th>\n",
       "      <th>year</th>\n",
       "      <th>Indicadores_Metascore</th>\n",
       "      <th>Clasificación_Puntuación_Usuario</th>\n",
       "    </tr>\n",
       "    <tr>\n",
       "      <th>rank</th>\n",
       "      <th></th>\n",
       "      <th></th>\n",
       "      <th></th>\n",
       "      <th></th>\n",
       "      <th></th>\n",
       "      <th></th>\n",
       "      <th></th>\n",
       "      <th></th>\n",
       "      <th></th>\n",
       "      <th></th>\n",
       "    </tr>\n",
       "  </thead>\n",
       "  <tbody>\n",
       "    <tr>\n",
       "      <th>3080</th>\n",
       "      <td>Work It : Season 1</td>\n",
       "      <td>2012-01-03</td>\n",
       "      <td>After they are laid off, Lee Standish (Ben Kol...</td>\n",
       "      <td>19</td>\n",
       "      <td>0.9</td>\n",
       "      <td>https://www.metacritic.com/tv/work-it/season-1</td>\n",
       "      <td>https://static.metacritic.com/images/products/...</td>\n",
       "      <td>2012</td>\n",
       "      <td>Aversión abrumadora</td>\n",
       "      <td>Mala o sin Clasificación</td>\n",
       "    </tr>\n",
       "    <tr>\n",
       "      <th>3081</th>\n",
       "      <td>Category 7: The End of the World: Season 1</td>\n",
       "      <td>2005-11-06</td>\n",
       "      <td>This killer-storm disaster sequel to \"Category...</td>\n",
       "      <td>18</td>\n",
       "      <td>3.7</td>\n",
       "      <td>https://www.metacritic.com/tv/category-7-the-e...</td>\n",
       "      <td>https://static.metacritic.com/images/products/...</td>\n",
       "      <td>2005</td>\n",
       "      <td>Aversión abrumadora</td>\n",
       "      <td>No muy buena</td>\n",
       "    </tr>\n",
       "    <tr>\n",
       "      <th>3082</th>\n",
       "      <td>Stalker: Season 1</td>\n",
       "      <td>2014-10-01</td>\n",
       "      <td>Lt. Beth Davis (Maggie Q) leads the Threat Ass...</td>\n",
       "      <td>17</td>\n",
       "      <td>7.4</td>\n",
       "      <td>https://www.metacritic.com/tv/stalker/season-1</td>\n",
       "      <td>https://static.metacritic.com/images/products/...</td>\n",
       "      <td>2014</td>\n",
       "      <td>Aversión abrumadora</td>\n",
       "      <td>Muy buena</td>\n",
       "    </tr>\n",
       "    <tr>\n",
       "      <th>3083</th>\n",
       "      <td>Dads: Season 1</td>\n",
       "      <td>2013-09-17</td>\n",
       "      <td>In this live-action comedy from producer Seth ...</td>\n",
       "      <td>15</td>\n",
       "      <td>3.8</td>\n",
       "      <td>https://www.metacritic.com/tv/dads/season-1</td>\n",
       "      <td>https://static.metacritic.com/images/products/...</td>\n",
       "      <td>2013</td>\n",
       "      <td>Aversión abrumadora</td>\n",
       "      <td>No muy buena</td>\n",
       "    </tr>\n",
       "    <tr>\n",
       "      <th>3084</th>\n",
       "      <td>The 1/2 Hour News Hour: Season 1</td>\n",
       "      <td>2007-02-18</td>\n",
       "      <td>The right-wing answer to \"The Daily Show With ...</td>\n",
       "      <td>13</td>\n",
       "      <td>2.8</td>\n",
       "      <td>https://www.metacritic.com/tv/the-12-hour-news...</td>\n",
       "      <td>https://static.metacritic.com/images/products/...</td>\n",
       "      <td>2007</td>\n",
       "      <td>Aversión abrumadora</td>\n",
       "      <td>No muy buena</td>\n",
       "    </tr>\n",
       "  </tbody>\n",
       "</table>\n",
       "</div>"
      ],
      "text/plain": [
       "                                           title    release  \\\n",
       "rank                                                          \n",
       "3080                          Work It : Season 1 2012-01-03   \n",
       "3081  Category 7: The End of the World: Season 1 2005-11-06   \n",
       "3082                           Stalker: Season 1 2014-10-01   \n",
       "3083                              Dads: Season 1 2013-09-17   \n",
       "3084            The 1/2 Hour News Hour: Season 1 2007-02-18   \n",
       "\n",
       "                                                summary  metascore  userscore  \\\n",
       "rank                                                                            \n",
       "3080  After they are laid off, Lee Standish (Ben Kol...         19        0.9   \n",
       "3081  This killer-storm disaster sequel to \"Category...         18        3.7   \n",
       "3082  Lt. Beth Davis (Maggie Q) leads the Threat Ass...         17        7.4   \n",
       "3083  In this live-action comedy from producer Seth ...         15        3.8   \n",
       "3084  The right-wing answer to \"The Daily Show With ...         13        2.8   \n",
       "\n",
       "                                                   link  \\\n",
       "rank                                                      \n",
       "3080     https://www.metacritic.com/tv/work-it/season-1   \n",
       "3081  https://www.metacritic.com/tv/category-7-the-e...   \n",
       "3082     https://www.metacritic.com/tv/stalker/season-1   \n",
       "3083        https://www.metacritic.com/tv/dads/season-1   \n",
       "3084  https://www.metacritic.com/tv/the-12-hour-news...   \n",
       "\n",
       "                                                img_url  year  \\\n",
       "rank                                                            \n",
       "3080  https://static.metacritic.com/images/products/...  2012   \n",
       "3081  https://static.metacritic.com/images/products/...  2005   \n",
       "3082  https://static.metacritic.com/images/products/...  2014   \n",
       "3083  https://static.metacritic.com/images/products/...  2013   \n",
       "3084  https://static.metacritic.com/images/products/...  2007   \n",
       "\n",
       "     Indicadores_Metascore Clasificación_Puntuación_Usuario  \n",
       "rank                                                         \n",
       "3080   Aversión abrumadora         Mala o sin Clasificación  \n",
       "3081   Aversión abrumadora                     No muy buena  \n",
       "3082   Aversión abrumadora                        Muy buena  \n",
       "3083   Aversión abrumadora                     No muy buena  \n",
       "3084   Aversión abrumadora                     No muy buena  "
      ]
     },
     "execution_count": 30,
     "metadata": {},
     "output_type": "execute_result"
    }
   ],
   "source": [
    "df.tail(5)\n"
   ]
  },
  {
   "cell_type": "markdown",
   "id": "6f84a4ce-5c7f-47bd-8131-067d77a820dc",
   "metadata": {},
   "source": [
    "3. Checking the types of data\n"
   ]
  },
  {
   "cell_type": "code",
   "execution_count": 31,
   "id": "f651b977-e43f-48c6-968d-a31296bd4e12",
   "metadata": {
    "tags": []
   },
   "outputs": [
    {
     "data": {
      "text/plain": [
       "title                                       object\n",
       "release                             datetime64[ns]\n",
       "summary                                     object\n",
       "metascore                                    int64\n",
       "userscore                                  float64\n",
       "link                                        object\n",
       "img_url                                     object\n",
       "year                                        object\n",
       "Indicadores_Metascore                       object\n",
       "Clasificación_Puntuación_Usuario            object\n",
       "dtype: object"
      ]
     },
     "execution_count": 31,
     "metadata": {},
     "output_type": "execute_result"
    }
   ],
   "source": [
    "df.dtypes"
   ]
  },
  {
   "cell_type": "markdown",
   "id": "72fe84fe-f74f-4222-82fd-bbb9fb2461f3",
   "metadata": {},
   "source": [
    "4. Dropping irrelevant columns\n"
   ]
  },
  {
   "cell_type": "code",
   "execution_count": 32,
   "id": "351ce8a0-c52e-42b9-ba90-22cb67dc7b4e",
   "metadata": {},
   "outputs": [
    {
     "data": {
      "text/html": [
       "<div>\n",
       "<style scoped>\n",
       "    .dataframe tbody tr th:only-of-type {\n",
       "        vertical-align: middle;\n",
       "    }\n",
       "\n",
       "    .dataframe tbody tr th {\n",
       "        vertical-align: top;\n",
       "    }\n",
       "\n",
       "    .dataframe thead th {\n",
       "        text-align: right;\n",
       "    }\n",
       "</style>\n",
       "<table border=\"1\" class=\"dataframe\">\n",
       "  <thead>\n",
       "    <tr style=\"text-align: right;\">\n",
       "      <th></th>\n",
       "      <th>title</th>\n",
       "      <th>release</th>\n",
       "      <th>metascore</th>\n",
       "      <th>userscore</th>\n",
       "      <th>year</th>\n",
       "      <th>Indicadores_Metascore</th>\n",
       "      <th>Clasificación_Puntuación_Usuario</th>\n",
       "    </tr>\n",
       "    <tr>\n",
       "      <th>rank</th>\n",
       "      <th></th>\n",
       "      <th></th>\n",
       "      <th></th>\n",
       "      <th></th>\n",
       "      <th></th>\n",
       "      <th></th>\n",
       "      <th></th>\n",
       "    </tr>\n",
       "  </thead>\n",
       "  <tbody>\n",
       "    <tr>\n",
       "      <th>1</th>\n",
       "      <td>Rectify: Season 4</td>\n",
       "      <td>2016-10-26</td>\n",
       "      <td>99</td>\n",
       "      <td>8.7</td>\n",
       "      <td>2016</td>\n",
       "      <td>Aclamación universal</td>\n",
       "      <td>Excelente</td>\n",
       "    </tr>\n",
       "    <tr>\n",
       "      <th>2</th>\n",
       "      <td>The Larry Sanders Show: Season 4</td>\n",
       "      <td>1995-07-19</td>\n",
       "      <td>99</td>\n",
       "      <td>5.8</td>\n",
       "      <td>1995</td>\n",
       "      <td>Aclamación universal</td>\n",
       "      <td>Buena</td>\n",
       "    </tr>\n",
       "    <tr>\n",
       "      <th>3</th>\n",
       "      <td>Murder One: Season 1</td>\n",
       "      <td>1995-09-19</td>\n",
       "      <td>99</td>\n",
       "      <td>6.4</td>\n",
       "      <td>1995</td>\n",
       "      <td>Aclamación universal</td>\n",
       "      <td>Muy buena</td>\n",
       "    </tr>\n",
       "    <tr>\n",
       "      <th>4</th>\n",
       "      <td>The Larry Sanders Show: Season 6</td>\n",
       "      <td>1998-03-15</td>\n",
       "      <td>99</td>\n",
       "      <td>5.5</td>\n",
       "      <td>1998</td>\n",
       "      <td>Aclamación universal</td>\n",
       "      <td>Buena</td>\n",
       "    </tr>\n",
       "    <tr>\n",
       "      <th>5</th>\n",
       "      <td>Breaking Bad: Season 5</td>\n",
       "      <td>2012-07-15</td>\n",
       "      <td>99</td>\n",
       "      <td>9.6</td>\n",
       "      <td>2012</td>\n",
       "      <td>Aclamación universal</td>\n",
       "      <td>Excelente</td>\n",
       "    </tr>\n",
       "  </tbody>\n",
       "</table>\n",
       "</div>"
      ],
      "text/plain": [
       "                                 title    release  metascore  userscore  year  \\\n",
       "rank                                                                            \n",
       "1                    Rectify: Season 4 2016-10-26         99        8.7  2016   \n",
       "2     The Larry Sanders Show: Season 4 1995-07-19         99        5.8  1995   \n",
       "3                 Murder One: Season 1 1995-09-19         99        6.4  1995   \n",
       "4     The Larry Sanders Show: Season 6 1998-03-15         99        5.5  1998   \n",
       "5               Breaking Bad: Season 5 2012-07-15         99        9.6  2012   \n",
       "\n",
       "     Indicadores_Metascore Clasificación_Puntuación_Usuario  \n",
       "rank                                                         \n",
       "1     Aclamación universal                        Excelente  \n",
       "2     Aclamación universal                            Buena  \n",
       "3     Aclamación universal                        Muy buena  \n",
       "4     Aclamación universal                            Buena  \n",
       "5     Aclamación universal                        Excelente  "
      ]
     },
     "execution_count": 32,
     "metadata": {},
     "output_type": "execute_result"
    }
   ],
   "source": [
    "df = df.drop(['img_url', 'link','summary'], axis=1)\n",
    "df.head(5)"
   ]
  },
  {
   "cell_type": "code",
   "execution_count": 33,
   "id": "1822a001-a80a-4d43-affd-6194bee7feee",
   "metadata": {},
   "outputs": [],
   "source": [
    "df.drop(df.index[df['metascore'] == 0], inplace = True)\n"
   ]
  },
  {
   "cell_type": "code",
   "execution_count": 34,
   "id": "ac5ea44c-e25f-4934-a355-9ca86e8884fb",
   "metadata": {},
   "outputs": [],
   "source": [
    "df.drop(df.index[df['userscore'] == 0.0], inplace = True)\n"
   ]
  },
  {
   "cell_type": "markdown",
   "id": "5e2f22e0-f5e3-4fee-83c8-69a51b2c5136",
   "metadata": {},
   "source": [
    "5. Renaming the columns\n"
   ]
  },
  {
   "cell_type": "code",
   "execution_count": 35,
   "id": "b3fed600-c60a-4be2-8365-f1f66d8eceb8",
   "metadata": {},
   "outputs": [
    {
     "data": {
      "text/html": [
       "<div>\n",
       "<style scoped>\n",
       "    .dataframe tbody tr th:only-of-type {\n",
       "        vertical-align: middle;\n",
       "    }\n",
       "\n",
       "    .dataframe tbody tr th {\n",
       "        vertical-align: top;\n",
       "    }\n",
       "\n",
       "    .dataframe thead th {\n",
       "        text-align: right;\n",
       "    }\n",
       "</style>\n",
       "<table border=\"1\" class=\"dataframe\">\n",
       "  <thead>\n",
       "    <tr style=\"text-align: right;\">\n",
       "      <th></th>\n",
       "      <th>Título_Series</th>\n",
       "      <th>Fecha_Estreno</th>\n",
       "      <th>Numeración_Críticas</th>\n",
       "      <th>Puntuación_Usuario</th>\n",
       "      <th>Año_Estreno</th>\n",
       "      <th>Categorías_Critícas_TV</th>\n",
       "      <th>Clasificación_Puntuación_Usuario</th>\n",
       "    </tr>\n",
       "    <tr>\n",
       "      <th>rank</th>\n",
       "      <th></th>\n",
       "      <th></th>\n",
       "      <th></th>\n",
       "      <th></th>\n",
       "      <th></th>\n",
       "      <th></th>\n",
       "      <th></th>\n",
       "    </tr>\n",
       "  </thead>\n",
       "  <tbody>\n",
       "    <tr>\n",
       "      <th>1</th>\n",
       "      <td>Rectify: Season 4</td>\n",
       "      <td>2016-10-26</td>\n",
       "      <td>99</td>\n",
       "      <td>8.7</td>\n",
       "      <td>2016</td>\n",
       "      <td>Aclamación universal</td>\n",
       "      <td>Excelente</td>\n",
       "    </tr>\n",
       "    <tr>\n",
       "      <th>2</th>\n",
       "      <td>The Larry Sanders Show: Season 4</td>\n",
       "      <td>1995-07-19</td>\n",
       "      <td>99</td>\n",
       "      <td>5.8</td>\n",
       "      <td>1995</td>\n",
       "      <td>Aclamación universal</td>\n",
       "      <td>Buena</td>\n",
       "    </tr>\n",
       "    <tr>\n",
       "      <th>3</th>\n",
       "      <td>Murder One: Season 1</td>\n",
       "      <td>1995-09-19</td>\n",
       "      <td>99</td>\n",
       "      <td>6.4</td>\n",
       "      <td>1995</td>\n",
       "      <td>Aclamación universal</td>\n",
       "      <td>Muy buena</td>\n",
       "    </tr>\n",
       "    <tr>\n",
       "      <th>4</th>\n",
       "      <td>The Larry Sanders Show: Season 6</td>\n",
       "      <td>1998-03-15</td>\n",
       "      <td>99</td>\n",
       "      <td>5.5</td>\n",
       "      <td>1998</td>\n",
       "      <td>Aclamación universal</td>\n",
       "      <td>Buena</td>\n",
       "    </tr>\n",
       "    <tr>\n",
       "      <th>5</th>\n",
       "      <td>Breaking Bad: Season 5</td>\n",
       "      <td>2012-07-15</td>\n",
       "      <td>99</td>\n",
       "      <td>9.6</td>\n",
       "      <td>2012</td>\n",
       "      <td>Aclamación universal</td>\n",
       "      <td>Excelente</td>\n",
       "    </tr>\n",
       "  </tbody>\n",
       "</table>\n",
       "</div>"
      ],
      "text/plain": [
       "                         Título_Series Fecha_Estreno  Numeración_Críticas  \\\n",
       "rank                                                                        \n",
       "1                    Rectify: Season 4    2016-10-26                   99   \n",
       "2     The Larry Sanders Show: Season 4    1995-07-19                   99   \n",
       "3                 Murder One: Season 1    1995-09-19                   99   \n",
       "4     The Larry Sanders Show: Season 6    1998-03-15                   99   \n",
       "5               Breaking Bad: Season 5    2012-07-15                   99   \n",
       "\n",
       "      Puntuación_Usuario Año_Estreno Categorías_Critícas_TV  \\\n",
       "rank                                                          \n",
       "1                    8.7        2016   Aclamación universal   \n",
       "2                    5.8        1995   Aclamación universal   \n",
       "3                    6.4        1995   Aclamación universal   \n",
       "4                    5.5        1998   Aclamación universal   \n",
       "5                    9.6        2012   Aclamación universal   \n",
       "\n",
       "     Clasificación_Puntuación_Usuario  \n",
       "rank                                   \n",
       "1                           Excelente  \n",
       "2                               Buena  \n",
       "3                           Muy buena  \n",
       "4                               Buena  \n",
       "5                           Excelente  "
      ]
     },
     "execution_count": 35,
     "metadata": {},
     "output_type": "execute_result"
    }
   ],
   "source": [
    "df = df.rename(columns={\"rank\":\"Id\",\"title\":\"Título_Series\",\"release\":\"Fecha_Estreno\",\"summary\":\"Resumen\",\"metascore\":\"Numeración_Críticas\",\"userscore\":\"Puntuación_Usuario\",\"year\":\"Año_Estreno\",\"Indicadores_Metascore\":\"Categorías_Critícas_TV\",\"Clasificación_Puntuación_Usuario\":\"Clasificación_Puntuación_Usuario\"}) \n",
    "df.head(5)"
   ]
  },
  {
   "cell_type": "markdown",
   "id": "0d1652bc-363a-49c2-bf45-e7076b8f70e4",
   "metadata": {
    "tags": []
   },
   "source": [
    "6. Dropping the duplicate rows\n",
    "This is often a handy thing to do because a huge data set as in this case contains more than 10, 000 rows often have some duplicate data which might be disturbing, so here I remove all the duplicate value from the data-set. For example prior to removing I had 11914 rows of data but after removing the duplicates 10925 data meaning that I had 989 of duplicate data.\n"
   ]
  },
  {
   "cell_type": "code",
   "execution_count": 36,
   "id": "5d261e1b-7b0d-4584-b8e9-6ebf770f1cb2",
   "metadata": {},
   "outputs": [
    {
     "name": "stdout",
     "output_type": "stream",
     "text": [
      "number of duplicate rows:  (0, 7)\n"
     ]
    }
   ],
   "source": [
    "duplicate_rows_df = df[df.duplicated()]\n",
    "print(\"number of duplicate rows: \", duplicate_rows_df.shape)\n"
   ]
  },
  {
   "cell_type": "code",
   "execution_count": 37,
   "id": "1b718493-4309-4fa6-bb7e-ace19c03fcee",
   "metadata": {},
   "outputs": [
    {
     "data": {
      "text/plain": [
       "Título_Series                       2819\n",
       "Fecha_Estreno                       2819\n",
       "Numeración_Críticas                 2819\n",
       "Puntuación_Usuario                  2819\n",
       "Año_Estreno                         2819\n",
       "Categorías_Critícas_TV              2819\n",
       "Clasificación_Puntuación_Usuario    2819\n",
       "dtype: int64"
      ]
     },
     "execution_count": 37,
     "metadata": {},
     "output_type": "execute_result"
    }
   ],
   "source": [
    "df.count()"
   ]
  },
  {
   "cell_type": "code",
   "execution_count": 38,
   "id": "a375ec06-68b6-4863-bc86-67e4601a2931",
   "metadata": {},
   "outputs": [
    {
     "data": {
      "text/html": [
       "<div>\n",
       "<style scoped>\n",
       "    .dataframe tbody tr th:only-of-type {\n",
       "        vertical-align: middle;\n",
       "    }\n",
       "\n",
       "    .dataframe tbody tr th {\n",
       "        vertical-align: top;\n",
       "    }\n",
       "\n",
       "    .dataframe thead th {\n",
       "        text-align: right;\n",
       "    }\n",
       "</style>\n",
       "<table border=\"1\" class=\"dataframe\">\n",
       "  <thead>\n",
       "    <tr style=\"text-align: right;\">\n",
       "      <th></th>\n",
       "      <th>Título_Series</th>\n",
       "      <th>Fecha_Estreno</th>\n",
       "      <th>Numeración_Críticas</th>\n",
       "      <th>Puntuación_Usuario</th>\n",
       "      <th>Año_Estreno</th>\n",
       "      <th>Categorías_Critícas_TV</th>\n",
       "      <th>Clasificación_Puntuación_Usuario</th>\n",
       "    </tr>\n",
       "    <tr>\n",
       "      <th>rank</th>\n",
       "      <th></th>\n",
       "      <th></th>\n",
       "      <th></th>\n",
       "      <th></th>\n",
       "      <th></th>\n",
       "      <th></th>\n",
       "      <th></th>\n",
       "    </tr>\n",
       "  </thead>\n",
       "  <tbody>\n",
       "    <tr>\n",
       "      <th>1</th>\n",
       "      <td>Rectify: Season 4</td>\n",
       "      <td>2016-10-26</td>\n",
       "      <td>99</td>\n",
       "      <td>8.7</td>\n",
       "      <td>2016</td>\n",
       "      <td>Aclamación universal</td>\n",
       "      <td>Excelente</td>\n",
       "    </tr>\n",
       "    <tr>\n",
       "      <th>2</th>\n",
       "      <td>The Larry Sanders Show: Season 4</td>\n",
       "      <td>1995-07-19</td>\n",
       "      <td>99</td>\n",
       "      <td>5.8</td>\n",
       "      <td>1995</td>\n",
       "      <td>Aclamación universal</td>\n",
       "      <td>Buena</td>\n",
       "    </tr>\n",
       "    <tr>\n",
       "      <th>3</th>\n",
       "      <td>Murder One: Season 1</td>\n",
       "      <td>1995-09-19</td>\n",
       "      <td>99</td>\n",
       "      <td>6.4</td>\n",
       "      <td>1995</td>\n",
       "      <td>Aclamación universal</td>\n",
       "      <td>Muy buena</td>\n",
       "    </tr>\n",
       "    <tr>\n",
       "      <th>4</th>\n",
       "      <td>The Larry Sanders Show: Season 6</td>\n",
       "      <td>1998-03-15</td>\n",
       "      <td>99</td>\n",
       "      <td>5.5</td>\n",
       "      <td>1998</td>\n",
       "      <td>Aclamación universal</td>\n",
       "      <td>Buena</td>\n",
       "    </tr>\n",
       "    <tr>\n",
       "      <th>5</th>\n",
       "      <td>Breaking Bad: Season 5</td>\n",
       "      <td>2012-07-15</td>\n",
       "      <td>99</td>\n",
       "      <td>9.6</td>\n",
       "      <td>2012</td>\n",
       "      <td>Aclamación universal</td>\n",
       "      <td>Excelente</td>\n",
       "    </tr>\n",
       "  </tbody>\n",
       "</table>\n",
       "</div>"
      ],
      "text/plain": [
       "                         Título_Series Fecha_Estreno  Numeración_Críticas  \\\n",
       "rank                                                                        \n",
       "1                    Rectify: Season 4    2016-10-26                   99   \n",
       "2     The Larry Sanders Show: Season 4    1995-07-19                   99   \n",
       "3                 Murder One: Season 1    1995-09-19                   99   \n",
       "4     The Larry Sanders Show: Season 6    1998-03-15                   99   \n",
       "5               Breaking Bad: Season 5    2012-07-15                   99   \n",
       "\n",
       "      Puntuación_Usuario Año_Estreno Categorías_Critícas_TV  \\\n",
       "rank                                                          \n",
       "1                    8.7        2016   Aclamación universal   \n",
       "2                    5.8        1995   Aclamación universal   \n",
       "3                    6.4        1995   Aclamación universal   \n",
       "4                    5.5        1998   Aclamación universal   \n",
       "5                    9.6        2012   Aclamación universal   \n",
       "\n",
       "     Clasificación_Puntuación_Usuario  \n",
       "rank                                   \n",
       "1                           Excelente  \n",
       "2                               Buena  \n",
       "3                           Muy buena  \n",
       "4                               Buena  \n",
       "5                           Excelente  "
      ]
     },
     "execution_count": 38,
     "metadata": {},
     "output_type": "execute_result"
    }
   ],
   "source": [
    "df = df.drop_duplicates()\n",
    "df.head(5)\n"
   ]
  },
  {
   "cell_type": "code",
   "execution_count": 39,
   "id": "07b42090-a368-4566-913a-68ca59df41be",
   "metadata": {
    "tags": []
   },
   "outputs": [
    {
     "data": {
      "text/plain": [
       "Título_Series                       2819\n",
       "Fecha_Estreno                       2819\n",
       "Numeración_Críticas                 2819\n",
       "Puntuación_Usuario                  2819\n",
       "Año_Estreno                         2819\n",
       "Categorías_Critícas_TV              2819\n",
       "Clasificación_Puntuación_Usuario    2819\n",
       "dtype: int64"
      ]
     },
     "execution_count": 39,
     "metadata": {},
     "output_type": "execute_result"
    }
   ],
   "source": [
    "df.count()"
   ]
  },
  {
   "cell_type": "markdown",
   "id": "8982f004-d2e7-482b-8076-3cefecaa765a",
   "metadata": {},
   "source": [
    "7. Dropping the missing or null values.\n",
    "\n"
   ]
  },
  {
   "cell_type": "code",
   "execution_count": 40,
   "id": "4eecba37-424e-44c8-a21c-5bec6785f990",
   "metadata": {},
   "outputs": [
    {
     "name": "stdout",
     "output_type": "stream",
     "text": [
      "Título_Series                       0\n",
      "Fecha_Estreno                       0\n",
      "Numeración_Críticas                 0\n",
      "Puntuación_Usuario                  0\n",
      "Año_Estreno                         0\n",
      "Categorías_Critícas_TV              0\n",
      "Clasificación_Puntuación_Usuario    0\n",
      "dtype: int64\n"
     ]
    }
   ],
   "source": [
    "print(df.isnull().sum())\n"
   ]
  },
  {
   "cell_type": "markdown",
   "id": "e189dc49-9a43-443d-913d-f7fd498679ca",
   "metadata": {},
   "source": [
    "8. Detecting Outliers"
   ]
  },
  {
   "cell_type": "code",
   "execution_count": 41,
   "id": "7b5e0359-6149-42b5-9d22-fb07b417467b",
   "metadata": {},
   "outputs": [
    {
     "data": {
      "text/plain": [
       "<AxesSubplot:xlabel='Numeración_Críticas'>"
      ]
     },
     "execution_count": 41,
     "metadata": {},
     "output_type": "execute_result"
    },
    {
     "data": {
      "image/png": "[encoded data removed]",
      "text/plain": [
       "<Figure size 432x288 with 1 Axes>"
      ]
     },
     "metadata": {},
     "output_type": "display_data"
    }
   ],
   "source": [
    "sns.boxplot(x=df['Numeración_Críticas'])\n"
   ]
  },
  {
   "cell_type": "code",
   "execution_count": 42,
   "id": "90096ed6-5c37-40e6-8e5d-037472312044",
   "metadata": {},
   "outputs": [
    {
     "data": {
      "text/plain": [
       "<AxesSubplot:xlabel='Puntuación_Usuario'>"
      ]
     },
     "execution_count": 42,
     "metadata": {},
     "output_type": "execute_result"
    },
    {
     "data": {
      "image/png": "[encoded data removed]",
      "text/plain": [
       "<Figure size 432x288 with 1 Axes>"
      ]
     },
     "metadata": {},
     "output_type": "display_data"
    }
   ],
   "source": [
    "sns.boxplot(x=df['Puntuación_Usuario'])\n"
   ]
  },
  {
   "cell_type": "code",
   "execution_count": 44,
   "id": "b7d785f5-cc04-4faf-84de-73eee5ae2796",
   "metadata": {},
   "outputs": [
    {
     "data": {
      "text/html": [
       "<div>\n",
       "<style scoped>\n",
       "    .dataframe tbody tr th:only-of-type {\n",
       "        vertical-align: middle;\n",
       "    }\n",
       "\n",
       "    .dataframe tbody tr th {\n",
       "        vertical-align: top;\n",
       "    }\n",
       "\n",
       "    .dataframe thead th {\n",
       "        text-align: right;\n",
       "    }\n",
       "</style>\n",
       "<table border=\"1\" class=\"dataframe\">\n",
       "  <thead>\n",
       "    <tr style=\"text-align: right;\">\n",
       "      <th></th>\n",
       "      <th>Numeración_Críticas</th>\n",
       "      <th>Puntuación_Usuario</th>\n",
       "    </tr>\n",
       "  </thead>\n",
       "  <tbody>\n",
       "    <tr>\n",
       "      <th>Numeración_Críticas</th>\n",
       "      <td>1.00000</td>\n",
       "      <td>0.45377</td>\n",
       "    </tr>\n",
       "    <tr>\n",
       "      <th>Puntuación_Usuario</th>\n",
       "      <td>0.45377</td>\n",
       "      <td>1.00000</td>\n",
       "    </tr>\n",
       "  </tbody>\n",
       "</table>\n",
       "</div>"
      ],
      "text/plain": [
       "                     Numeración_Críticas  Puntuación_Usuario\n",
       "Numeración_Críticas              1.00000             0.45377\n",
       "Puntuación_Usuario               0.45377             1.00000"
      ]
     },
     "execution_count": 44,
     "metadata": {},
     "output_type": "execute_result"
    },
    {
     "data": {
      "image/png": "[encoded data removed]",
      "text/plain": [
       "<Figure size 1440x720 with 2 Axes>"
      ]
     },
     "metadata": {},
     "output_type": "display_data"
    }
   ],
   "source": [
    "# Finding the relations between the variables.\n",
    "plt.figure(figsize=(20,10))\n",
    "c= df.corr()\n",
    "sns.heatmap(c,cmap=\"BrBG\",annot=True)\n",
    "c"
   ]
  },
  {
   "cell_type": "code",
   "execution_count": 45,
   "id": "645afacb-c176-4b9e-b862-66d9784f156f",
   "metadata": {},
   "outputs": [
    {
     "data": {
      "image/png": "[encoded data removed]",
      "text/plain": [
       "<Figure size 2304x864 with 1 Axes>"
      ]
     },
     "metadata": {},
     "output_type": "display_data"
    }
   ],
   "source": [
    "plt.scatter(df[\"Puntuación_Usuario\"],df[\"Numeración_Críticas\"],marker=\",\",c=df[\"Numeración_Críticas\"])#muestra la relación entre la puntuación de los usuarios y el metascore\n",
    "plt.gcf().set_size_inches(32,12)\n",
    "plt.tight_layout()\n",
    "plt.title(\"Muestra la relación entre la puntuación de los usuarios y el metascore \", fontsize=16)\n",
    "plt.xlabel('Puntuación de usuarios ', fontsize=16)\n",
    "plt.ylabel('Posición en sistema de puntuación mestascore usado por metrics', fontsize=16)\n",
    "plt.savefig(\"Muestra la relación entre la puntuación de los usuarios y el metascore.jpg\")\n",
    "plt.grid(True)\n",
    "plt.show()\n"
   ]
  },
  {
   "cell_type": "code",
   "execution_count": 46,
   "id": "8ab91f56-f87d-46a6-b8d6-608f6ec08e26",
   "metadata": {},
   "outputs": [
    {
     "data": {
      "image/png": "[encoded data removed]",
      "text/plain": [
       "<Figure size 1296x576 with 1 Axes>"
      ]
     },
     "metadata": {},
     "output_type": "display_data"
    }
   ],
   "source": [
    "plt.bar(df[\"Categorías_Critícas_TV\"],df[\"Numeración_Críticas\"])#muestra la relación entre la puntuación de los usuarios y el metascore\n",
    "plt.gcf().set_size_inches(18,8)\n",
    "plt.tight_layout()\n",
    "plt.title(\"Muestra la cantidad de metricas total por categoría\", fontsize=16)\n",
    "plt.xlabel('Indicadores metascore', fontsize=16)\n",
    "plt.ylabel('Cantidad total del sistema de puntuación mestascore usado por metrics', fontsize=16)\n",
    "plt.savefig(\"Muestra la cantidad de metricas total por categoría.jpg\")\n",
    "plt.show()\n"
   ]
  },
  {
   "cell_type": "code",
   "execution_count": 47,
   "id": "1229d032-8d54-461b-89e8-a648b08fb5a5",
   "metadata": {},
   "outputs": [],
   "source": [
    "df1=df.groupby(['Año_Estreno'])['Numeración_Críticas'].count().reset_index()\n",
    "df1=df1.sort_index( ascending = [True], na_position = 'first') # sorteamos los valores del data entorno a la fecha, la ordenamos de manera ascendente\n",
    "#y determinamos la posición de los valores NaN si es que tienen en este caso es primero"
   ]
  },
  {
   "cell_type": "code",
   "execution_count": 48,
   "id": "c354cb79-6772-48c0-bfb9-94249019973c",
   "metadata": {},
   "outputs": [
    {
     "data": {
      "text/html": [
       "<div>\n",
       "<style scoped>\n",
       "    .dataframe tbody tr th:only-of-type {\n",
       "        vertical-align: middle;\n",
       "    }\n",
       "\n",
       "    .dataframe tbody tr th {\n",
       "        vertical-align: top;\n",
       "    }\n",
       "\n",
       "    .dataframe thead th {\n",
       "        text-align: right;\n",
       "    }\n",
       "</style>\n",
       "<table border=\"1\" class=\"dataframe\">\n",
       "  <thead>\n",
       "    <tr style=\"text-align: right;\">\n",
       "      <th></th>\n",
       "      <th>Año_Estreno</th>\n",
       "      <th>Numeración_Críticas</th>\n",
       "    </tr>\n",
       "  </thead>\n",
       "  <tbody>\n",
       "    <tr>\n",
       "      <th>0</th>\n",
       "      <td>1981</td>\n",
       "      <td>1</td>\n",
       "    </tr>\n",
       "    <tr>\n",
       "      <th>1</th>\n",
       "      <td>1984</td>\n",
       "      <td>1</td>\n",
       "    </tr>\n",
       "    <tr>\n",
       "      <th>2</th>\n",
       "      <td>1986</td>\n",
       "      <td>1</td>\n",
       "    </tr>\n",
       "    <tr>\n",
       "      <th>3</th>\n",
       "      <td>1987</td>\n",
       "      <td>2</td>\n",
       "    </tr>\n",
       "    <tr>\n",
       "      <th>4</th>\n",
       "      <td>1988</td>\n",
       "      <td>4</td>\n",
       "    </tr>\n",
       "  </tbody>\n",
       "</table>\n",
       "</div>"
      ],
      "text/plain": [
       "  Año_Estreno  Numeración_Críticas\n",
       "0        1981                    1\n",
       "1        1984                    1\n",
       "2        1986                    1\n",
       "3        1987                    2\n",
       "4        1988                    4"
      ]
     },
     "execution_count": 48,
     "metadata": {},
     "output_type": "execute_result"
    }
   ],
   "source": [
    "df1.head()"
   ]
  },
  {
   "cell_type": "code",
   "execution_count": 49,
   "id": "8c5ee870-7ea9-4af5-b961-374f1a0c37ac",
   "metadata": {},
   "outputs": [
    {
     "data": {
      "image/png": "[encoded data removed]",
      "text/plain": [
       "<Figure size 2016x1152 with 1 Axes>"
      ]
     },
     "metadata": {},
     "output_type": "display_data"
    }
   ],
   "source": [
    "plt.plot_date(df1[\"Año_Estreno\"],df1[\"Numeración_Críticas\"],linestyle ='-')#utilizamos plot_date para representar periodos de tiempo le damos definición  a la linea del gráfico\n",
    "plt.gcf().set_size_inches(28, 16)#gfc se usa para obtener la cifra actual o si no, se puede usar figure, set_size_inches es el tamaño en pulgadas, puedes usar otro tipo de medición\n",
    "#y de graficos, no es necesario que lo hagas así, pero es la base. puede se grafico de barra, scater plots, graficas de lineas,  \n",
    "plt.tight_layout()#ajusta automáticamente los parámetros de la subtrama para que las subtramas se ajusten al área de la figura\n",
    "plt.title('Grafico mejores series 0 a 500 por año de lanzamiento y calificación de usuario', fontsize=12)#asignamos titulo del grafico\n",
    "plt.xlabel('Años de lanzamiento', fontsize=12)#asignamos nombre eje x\n",
    "plt.ylabel('Cantidad de votaciones que han hecho los usuarios por año' ,fontsize=12)#asignamos nombre eje y\n",
    "plt.grid(True)\n",
    "plt.savefig(\"Grafico mejores series 0 a 500 por año de lanzamiento y calificación de usuario.jpg\")#sirve para guardar figuras\n",
    "plt.show()"
   ]
  },
  {
   "cell_type": "code",
   "execution_count": 50,
   "id": "878f6e2e-5069-45ce-8cc2-2b6251d8f24e",
   "metadata": {},
   "outputs": [],
   "source": [
    "df.to_csv('metacritic.csv')# crear archivo casv con  la data nueva creada limpia "
   ]
  },
  {
   "cell_type": "code",
   "execution_count": 26,
   "id": "c02edba2-33ac-4a5f-900a-a9aa10a19e06",
   "metadata": {},
   "outputs": [],
   "source": [
    "df = pd.read_csv('D:/TI2022/metacritic.csv',sep=',', engine='python') \n",
    "\n"
   ]
  },
  {
   "cell_type": "code",
   "execution_count": 54,
   "id": "f5484ef3-39ce-43dc-aaaa-4190a606a9d6",
   "metadata": {},
   "outputs": [
    {
     "data": {
      "text/plain": [
       "rank                                  int64\n",
       "Título_Series                        object\n",
       "Fecha_Estreno                        object\n",
       "Numeración_Críticas                   int64\n",
       "Puntuación_Usuario                  float64\n",
       "Año_Estreno                           int64\n",
       "Categorías_Critícas_TV               object\n",
       "Clasificación_Puntuación_Usuario     object\n",
       "dtype: object"
      ]
     },
     "execution_count": 54,
     "metadata": {},
     "output_type": "execute_result"
    }
   ],
   "source": [
    "#df.dtypes"
   ]
  },
  {
   "cell_type": "code",
   "execution_count": 25,
   "id": "ee17681f-7fa2-4771-a5d3-14143576079f",
   "metadata": {},
   "outputs": [],
   "source": [
    "# Import required libraries\n",
    "import sqlite3\n",
    "import pandas as pd\n",
    "\n",
    "# Connect to SQLite database\n",
    "conn = sqlite3.connect(r'D:/TI2022/metacritic.db')\n",
    "\n",
    "# Load CSV data into Pandas DataFrame\n",
    "dfDB = pd.read_csv('D:/TI2022/metacritic.csv',sep=',')\n",
    "# Write the data to a sqlite table\n",
    "dfDB.to_sql('metacritic', conn, if_exists='replace', index=False)\n",
    "\n",
    "# Create a cursor object\n",
    "cur = conn.cursor()\n",
    "# Fetch and display result\n",
    "\n",
    "# Close connection to SQLite database\n",
    "conn.close()\n"
   ]
  },
  {
   "cell_type": "code",
   "execution_count": 58,
   "id": "351b9e9a-fc17-4799-adf0-09e38138671d",
   "metadata": {},
   "outputs": [
    {
     "data": {
      "text/plain": [
       "rank                                  int64\n",
       "title                                object\n",
       "release                              object\n",
       "summary                              object\n",
       "metascore                             int64\n",
       "userscore                           float64\n",
       "link                                 object\n",
       "img_url                              object\n",
       "year                                  int64\n",
       "Indicadores_Metascore                object\n",
       "Clasificación_Puntuación_Usuario     object\n",
       "dtype: object"
      ]
     },
     "execution_count": 58,
     "metadata": {},
     "output_type": "execute_result"
    }
   ],
   "source": [
    "dfDB.dtypes"
   ]
  },
  {
   "cell_type": "markdown",
   "id": "a1e9d8a7-1f31-4be5-845e-efac5d6e86a0",
   "metadata": {},
   "source": [
    ">Esta nueva data es para hacer la nube de palabras llamar de nuevo al archivo csv"
   ]
  },
  {
   "cell_type": "code",
   "execution_count": 16,
   "id": "db6847d6-5dc4-4172-9a25-3a40b3a8f2e3",
   "metadata": {},
   "outputs": [
    {
     "data": {
      "text/html": [
       "<div>\n",
       "<style scoped>\n",
       "    .dataframe tbody tr th:only-of-type {\n",
       "        vertical-align: middle;\n",
       "    }\n",
       "\n",
       "    .dataframe tbody tr th {\n",
       "        vertical-align: top;\n",
       "    }\n",
       "\n",
       "    .dataframe thead th {\n",
       "        text-align: right;\n",
       "    }\n",
       "</style>\n",
       "<table border=\"1\" class=\"dataframe\">\n",
       "  <thead>\n",
       "    <tr style=\"text-align: right;\">\n",
       "      <th></th>\n",
       "      <th>summary</th>\n",
       "      <th>Indicadores_Metascore</th>\n",
       "    </tr>\n",
       "  </thead>\n",
       "  <tbody>\n",
       "    <tr>\n",
       "      <th>0</th>\n",
       "      <td>Daniel tries to start a new life outside of Pa...</td>\n",
       "      <td>Aclamación universal</td>\n",
       "    </tr>\n",
       "    <tr>\n",
       "      <th>1</th>\n",
       "      <td>Comic Garry Shandling draws upon his own talk ...</td>\n",
       "      <td>Aclamación universal</td>\n",
       "    </tr>\n",
       "    <tr>\n",
       "      <th>2</th>\n",
       "      <td>One of several crime and law dramas created by...</td>\n",
       "      <td>Aclamación universal</td>\n",
       "    </tr>\n",
       "    <tr>\n",
       "      <th>3</th>\n",
       "      <td>Comic Garry Shandling draws upon his own talk ...</td>\n",
       "      <td>Aclamación universal</td>\n",
       "    </tr>\n",
       "    <tr>\n",
       "      <th>4</th>\n",
       "      <td>The final season for the award-winning drama b...</td>\n",
       "      <td>Aclamación universal</td>\n",
       "    </tr>\n",
       "  </tbody>\n",
       "</table>\n",
       "</div>"
      ],
      "text/plain": [
       "                                             summary Indicadores_Metascore\n",
       "0  Daniel tries to start a new life outside of Pa...  Aclamación universal\n",
       "1  Comic Garry Shandling draws upon his own talk ...  Aclamación universal\n",
       "2  One of several crime and law dramas created by...  Aclamación universal\n",
       "3  Comic Garry Shandling draws upon his own talk ...  Aclamación universal\n",
       "4  The final season for the award-winning drama b...  Aclamación universal"
      ]
     },
     "execution_count": 16,
     "metadata": {},
     "output_type": "execute_result"
    }
   ],
   "source": [
    "#df = df.drop(['img_url', 'link','title','release','metascore','userscore','year','rank','Clasificación_Puntuación_Usuario'], axis=1)\n",
    "#df.head(5)"
   ]
  },
  {
   "cell_type": "code",
   "execution_count": 17,
   "id": "c91d3186-76e9-4750-9a50-29e0b2b1d378",
   "metadata": {},
   "outputs": [
    {
     "data": {
      "text/html": [
       "<div>\n",
       "<style scoped>\n",
       "    .dataframe tbody tr th:only-of-type {\n",
       "        vertical-align: middle;\n",
       "    }\n",
       "\n",
       "    .dataframe tbody tr th {\n",
       "        vertical-align: top;\n",
       "    }\n",
       "\n",
       "    .dataframe thead th {\n",
       "        text-align: right;\n",
       "    }\n",
       "</style>\n",
       "<table border=\"1\" class=\"dataframe\">\n",
       "  <thead>\n",
       "    <tr style=\"text-align: right;\">\n",
       "      <th></th>\n",
       "      <th>Resumen</th>\n",
       "      <th>Categorías_Critícas_TV</th>\n",
       "    </tr>\n",
       "  </thead>\n",
       "  <tbody>\n",
       "    <tr>\n",
       "      <th>0</th>\n",
       "      <td>Daniel tries to start a new life outside of Pa...</td>\n",
       "      <td>Aclamación universal</td>\n",
       "    </tr>\n",
       "    <tr>\n",
       "      <th>1</th>\n",
       "      <td>Comic Garry Shandling draws upon his own talk ...</td>\n",
       "      <td>Aclamación universal</td>\n",
       "    </tr>\n",
       "    <tr>\n",
       "      <th>2</th>\n",
       "      <td>One of several crime and law dramas created by...</td>\n",
       "      <td>Aclamación universal</td>\n",
       "    </tr>\n",
       "    <tr>\n",
       "      <th>3</th>\n",
       "      <td>Comic Garry Shandling draws upon his own talk ...</td>\n",
       "      <td>Aclamación universal</td>\n",
       "    </tr>\n",
       "    <tr>\n",
       "      <th>4</th>\n",
       "      <td>The final season for the award-winning drama b...</td>\n",
       "      <td>Aclamación universal</td>\n",
       "    </tr>\n",
       "  </tbody>\n",
       "</table>\n",
       "</div>"
      ],
      "text/plain": [
       "                                             Resumen Categorías_Critícas_TV\n",
       "0  Daniel tries to start a new life outside of Pa...   Aclamación universal\n",
       "1  Comic Garry Shandling draws upon his own talk ...   Aclamación universal\n",
       "2  One of several crime and law dramas created by...   Aclamación universal\n",
       "3  Comic Garry Shandling draws upon his own talk ...   Aclamación universal\n",
       "4  The final season for the award-winning drama b...   Aclamación universal"
      ]
     },
     "execution_count": 17,
     "metadata": {},
     "output_type": "execute_result"
    }
   ],
   "source": [
    "#df = df.rename(columns={\"summary\":\"Resumen\",\"Indicadores_Metascore\":\"Categorías_Critícas_TV\"}) \n",
    "#df.head(5)"
   ]
  },
  {
   "cell_type": "code",
   "execution_count": 20,
   "id": "7ba6e611-75c3-4b57-8313-dbaac1316f4b",
   "metadata": {},
   "outputs": [
    {
     "data": {
      "text/html": [
       "<div>\n",
       "<style scoped>\n",
       "    .dataframe tbody tr th:only-of-type {\n",
       "        vertical-align: middle;\n",
       "    }\n",
       "\n",
       "    .dataframe tbody tr th {\n",
       "        vertical-align: top;\n",
       "    }\n",
       "\n",
       "    .dataframe thead th {\n",
       "        text-align: right;\n",
       "    }\n",
       "</style>\n",
       "<table border=\"1\" class=\"dataframe\">\n",
       "  <thead>\n",
       "    <tr style=\"text-align: right;\">\n",
       "      <th></th>\n",
       "      <th>Resumen</th>\n",
       "      <th>Categorías_Critícas_TV</th>\n",
       "    </tr>\n",
       "  </thead>\n",
       "  <tbody>\n",
       "    <tr>\n",
       "      <th>0</th>\n",
       "      <td>Daniel tries to start a new life outside of Pa...</td>\n",
       "      <td>Aclamación universal</td>\n",
       "    </tr>\n",
       "    <tr>\n",
       "      <th>1</th>\n",
       "      <td>Comic Garry Shandling draws upon his own talk ...</td>\n",
       "      <td>Aclamación universal</td>\n",
       "    </tr>\n",
       "    <tr>\n",
       "      <th>2</th>\n",
       "      <td>One of several crime and law dramas created by...</td>\n",
       "      <td>Aclamación universal</td>\n",
       "    </tr>\n",
       "    <tr>\n",
       "      <th>3</th>\n",
       "      <td>Comic Garry Shandling draws upon his own talk ...</td>\n",
       "      <td>Aclamación universal</td>\n",
       "    </tr>\n",
       "    <tr>\n",
       "      <th>4</th>\n",
       "      <td>The final season for the award-winning drama b...</td>\n",
       "      <td>Aclamación universal</td>\n",
       "    </tr>\n",
       "  </tbody>\n",
       "</table>\n",
       "</div>"
      ],
      "text/plain": [
       "                                             Resumen Categorías_Critícas_TV\n",
       "0  Daniel tries to start a new life outside of Pa...   Aclamación universal\n",
       "1  Comic Garry Shandling draws upon his own talk ...   Aclamación universal\n",
       "2  One of several crime and law dramas created by...   Aclamación universal\n",
       "3  Comic Garry Shandling draws upon his own talk ...   Aclamación universal\n",
       "4  The final season for the award-winning drama b...   Aclamación universal"
      ]
     },
     "execution_count": 20,
     "metadata": {},
     "output_type": "execute_result"
    }
   ],
   "source": [
    "#df_filtrada = df.query('Categorías_Critícas_TV == \"Aclamación universal\"')\n",
    "#df_filtrada.head()"
   ]
  },
  {
   "cell_type": "code",
   "execution_count": 21,
   "id": "cfc479aa-74af-4fae-8054-357380fb7508",
   "metadata": {},
   "outputs": [
    {
     "data": {
      "text/plain": [
       "Resumen                   457\n",
       "Categorías_Critícas_TV    457\n",
       "dtype: int64"
      ]
     },
     "execution_count": 21,
     "metadata": {},
     "output_type": "execute_result"
    }
   ],
   "source": [
    "#df_filtrada.count()"
   ]
  },
  {
   "cell_type": "code",
   "execution_count": 22,
   "id": "0319db47-65b4-4c5a-97fe-15a822f3cde4",
   "metadata": {},
   "outputs": [],
   "source": [
    "#df_filtrada.to_csv('summary_filtrado.csv')# crear archivo casv con  la data nueva creada limpia "
   ]
  },
  {
   "cell_type": "code",
   "execution_count": null,
   "id": "074a3116-14b4-49e0-8075-44886dc67323",
   "metadata": {},
   "outputs": [],
   "source": []
  }
 ],
 "metadata": {
  "kernelspec": {
   "display_name": "Python 3 (ipykernel)",
   "language": "python",
   "name": "python3"
  },
  "language_info": {
   "codemirror_mode": {
    "name": "ipython",
    "version": 3
   },
   "file_extension": ".py",
   "mimetype": "text/x-python",
   "name": "python",
   "nbconvert_exporter": "python",
   "pygments_lexer": "ipython3",
   "version": "3.9.7"
  }
 },
 "nbformat": 4,
 "nbformat_minor": 5
}
